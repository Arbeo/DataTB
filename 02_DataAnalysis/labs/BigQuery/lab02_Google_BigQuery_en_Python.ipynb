{
  "nbformat": 4,
  "nbformat_minor": 0,
  "metadata": {
    "colab": {
      "name": "lab02 - Google BigQuery en Python",
      "provenance": [],
      "collapsed_sections": []
    },
    "kernelspec": {
      "name": "python3",
      "display_name": "Python 3"
    },
    "language_info": {
      "name": "python"
    }
  },
  "cells": [
    {
      "cell_type": "markdown",
      "metadata": {
        "id": "jUFv4NdPe8Vm"
      },
      "source": [
        "# Google BigQuery en Python\n",
        "\n",
        "https://pypi.org/project/google-cloud-bigquery/\n",
        "\n"
      ]
    },
    {
      "cell_type": "code",
      "metadata": {
        "colab": {
          "base_uri": "https://localhost:8080/"
        },
        "id": "8CTUfDP4e3G_",
        "outputId": "8dc05dab-5d49-41c6-864c-390a845818bd"
      },
      "source": [
        "# instalar bigquery \n",
        "!pip install google-cloud-bigquery"
      ],
      "execution_count": 25,
      "outputs": [
        {
          "output_type": "stream",
          "name": "stdout",
          "text": [
            "Requirement already satisfied: google-cloud-bigquery in /usr/local/lib/python3.7/dist-packages (1.21.0)\n",
            "Requirement already satisfied: google-cloud-core<2.0dev,>=1.0.3 in /usr/local/lib/python3.7/dist-packages (from google-cloud-bigquery) (1.0.3)\n",
            "Requirement already satisfied: protobuf>=3.6.0 in /usr/local/lib/python3.7/dist-packages (from google-cloud-bigquery) (3.17.3)\n",
            "Requirement already satisfied: google-resumable-media!=0.4.0,<0.5.0dev,>=0.3.1 in /usr/local/lib/python3.7/dist-packages (from google-cloud-bigquery) (0.4.1)\n",
            "Requirement already satisfied: google-api-core<2.0.0dev,>=1.14.0 in /usr/local/lib/python3.7/dist-packages (from google-cloud-core<2.0dev,>=1.0.3->google-cloud-bigquery) (1.26.3)\n",
            "Requirement already satisfied: googleapis-common-protos<2.0dev,>=1.6.0 in /usr/local/lib/python3.7/dist-packages (from google-api-core<2.0.0dev,>=1.14.0->google-cloud-core<2.0dev,>=1.0.3->google-cloud-bigquery) (1.53.0)\n",
            "Requirement already satisfied: packaging>=14.3 in /usr/local/lib/python3.7/dist-packages (from google-api-core<2.0.0dev,>=1.14.0->google-cloud-core<2.0dev,>=1.0.3->google-cloud-bigquery) (21.0)\n",
            "Requirement already satisfied: setuptools>=40.3.0 in /usr/local/lib/python3.7/dist-packages (from google-api-core<2.0.0dev,>=1.14.0->google-cloud-core<2.0dev,>=1.0.3->google-cloud-bigquery) (57.4.0)\n",
            "Requirement already satisfied: six>=1.13.0 in /usr/local/lib/python3.7/dist-packages (from google-api-core<2.0.0dev,>=1.14.0->google-cloud-core<2.0dev,>=1.0.3->google-cloud-bigquery) (1.15.0)\n",
            "Requirement already satisfied: requests<3.0.0dev,>=2.18.0 in /usr/local/lib/python3.7/dist-packages (from google-api-core<2.0.0dev,>=1.14.0->google-cloud-core<2.0dev,>=1.0.3->google-cloud-bigquery) (2.23.0)\n",
            "Requirement already satisfied: pytz in /usr/local/lib/python3.7/dist-packages (from google-api-core<2.0.0dev,>=1.14.0->google-cloud-core<2.0dev,>=1.0.3->google-cloud-bigquery) (2018.9)\n",
            "Requirement already satisfied: google-auth<2.0dev,>=1.21.1 in /usr/local/lib/python3.7/dist-packages (from google-api-core<2.0.0dev,>=1.14.0->google-cloud-core<2.0dev,>=1.0.3->google-cloud-bigquery) (1.34.0)\n",
            "Requirement already satisfied: rsa<5,>=3.1.4 in /usr/local/lib/python3.7/dist-packages (from google-auth<2.0dev,>=1.21.1->google-api-core<2.0.0dev,>=1.14.0->google-cloud-core<2.0dev,>=1.0.3->google-cloud-bigquery) (4.7.2)\n",
            "Requirement already satisfied: pyasn1-modules>=0.2.1 in /usr/local/lib/python3.7/dist-packages (from google-auth<2.0dev,>=1.21.1->google-api-core<2.0.0dev,>=1.14.0->google-cloud-core<2.0dev,>=1.0.3->google-cloud-bigquery) (0.2.8)\n",
            "Requirement already satisfied: cachetools<5.0,>=2.0.0 in /usr/local/lib/python3.7/dist-packages (from google-auth<2.0dev,>=1.21.1->google-api-core<2.0.0dev,>=1.14.0->google-cloud-core<2.0dev,>=1.0.3->google-cloud-bigquery) (4.2.2)\n",
            "Requirement already satisfied: pyparsing>=2.0.2 in /usr/local/lib/python3.7/dist-packages (from packaging>=14.3->google-api-core<2.0.0dev,>=1.14.0->google-cloud-core<2.0dev,>=1.0.3->google-cloud-bigquery) (2.4.7)\n",
            "Requirement already satisfied: pyasn1<0.5.0,>=0.4.6 in /usr/local/lib/python3.7/dist-packages (from pyasn1-modules>=0.2.1->google-auth<2.0dev,>=1.21.1->google-api-core<2.0.0dev,>=1.14.0->google-cloud-core<2.0dev,>=1.0.3->google-cloud-bigquery) (0.4.8)\n",
            "Requirement already satisfied: idna<3,>=2.5 in /usr/local/lib/python3.7/dist-packages (from requests<3.0.0dev,>=2.18.0->google-api-core<2.0.0dev,>=1.14.0->google-cloud-core<2.0dev,>=1.0.3->google-cloud-bigquery) (2.10)\n",
            "Requirement already satisfied: certifi>=2017.4.17 in /usr/local/lib/python3.7/dist-packages (from requests<3.0.0dev,>=2.18.0->google-api-core<2.0.0dev,>=1.14.0->google-cloud-core<2.0dev,>=1.0.3->google-cloud-bigquery) (2021.5.30)\n",
            "Requirement already satisfied: chardet<4,>=3.0.2 in /usr/local/lib/python3.7/dist-packages (from requests<3.0.0dev,>=2.18.0->google-api-core<2.0.0dev,>=1.14.0->google-cloud-core<2.0dev,>=1.0.3->google-cloud-bigquery) (3.0.4)\n",
            "Requirement already satisfied: urllib3!=1.25.0,!=1.25.1,<1.26,>=1.21.1 in /usr/local/lib/python3.7/dist-packages (from requests<3.0.0dev,>=2.18.0->google-api-core<2.0.0dev,>=1.14.0->google-cloud-core<2.0dev,>=1.0.3->google-cloud-bigquery) (1.24.3)\n"
          ]
        }
      ]
    },
    {
      "cell_type": "code",
      "metadata": {
        "id": "Wdl7V2c1fIRP"
      },
      "source": [
        "# cargamos las librerías\n",
        "from google.cloud import bigquery\n",
        "from google.oauth2 import service_account"
      ],
      "execution_count": 26,
      "outputs": []
    },
    {
      "cell_type": "code",
      "metadata": {
        "id": "g9eNf433fRvH"
      },
      "source": [
        "# Si trabajamos con Token y secret del service account\n",
        "#creds = service_account.Credentials.from_service_account_file('PATH DEL FICHERO JSON en .key')"
      ],
      "execution_count": null,
      "outputs": []
    },
    {
      "cell_type": "code",
      "metadata": {
        "id": "6ZwIbiJni_VS"
      },
      "source": [
        "creds = service_account.Credentials.from_service_account_file('/content/thebridgept0521-00ccc9a47591.json')"
      ],
      "execution_count": 19,
      "outputs": []
    },
    {
      "cell_type": "markdown",
      "metadata": {
        "id": "ilYOcVoTfrcf"
      },
      "source": [
        "> previamente debemos crear el directorio en nuestro root /home/<user>/.key con el comando **mkdir**."
      ]
    },
    {
      "cell_type": "code",
      "metadata": {
        "id": "uZZU28M9hEyB"
      },
      "source": [
        "# Alternativa con Google Oauth de Google Colab\n",
        "from google.colab import auth\n",
        "auth.authenticate_user()"
      ],
      "execution_count": 5,
      "outputs": []
    },
    {
      "cell_type": "markdown",
      "metadata": {
        "id": "pxwyKnD-f8gm"
      },
      "source": [
        "## Jerarquía estructura BigQuery\n",
        "\n",
        "- ProjectID\n",
        "- DatasetID o Dataset\n",
        "- Table\n",
        "\n"
      ]
    },
    {
      "cell_type": "code",
      "metadata": {
        "id": "WxNZ6LRWgEzv"
      },
      "source": [
        "# introducimos el projectID\n",
        "proj_id = 'thebridgept0521'"
      ],
      "execution_count": 3,
      "outputs": []
    },
    {
      "cell_type": "code",
      "metadata": {
        "id": "PJZlhE6XhSDx"
      },
      "source": [
        "# En caso de trabajar con el token\n",
        "client = bigquery.Client(project=proj_id)"
      ],
      "execution_count": 27,
      "outputs": []
    },
    {
      "cell_type": "code",
      "metadata": {
        "id": "Jj8Td9c8gNjY"
      },
      "source": [
        "# Probamos Gcp-BQ\n",
        "query = (\n",
        "'SELECT name '\n",
        "'FROM `bigquery-public-data.usa_names.usa_1910_2013` '\n",
        "'WHERE state = \"TX\" '\n",
        "'LIMIT 100 '\n",
        ")"
      ],
      "execution_count": 38,
      "outputs": []
    },
    {
      "cell_type": "code",
      "metadata": {
        "id": "xxohAvIKkdbK"
      },
      "source": [
        "# También podemos estructura la query de esta forma\n",
        "query = \"\"\"\n",
        "SELECT name\n",
        "FROM `bigquery-public-data.usa_names.usa_1910_2013`\n",
        "WHERE state = \"TX\"\n",
        "LIMIT 100\n",
        "\"\"\""
      ],
      "execution_count": 42,
      "outputs": []
    },
    {
      "cell_type": "code",
      "metadata": {
        "id": "5rHHruzUf4Da"
      },
      "source": [
        "# Ejecutaremos el job de BigQuery\n",
        "query_job = client.query(query) # esta es la llamada a la API"
      ],
      "execution_count": 43,
      "outputs": []
    },
    {
      "cell_type": "code",
      "metadata": {
        "id": "g8R6Jyk7iC8d"
      },
      "source": [
        "# Iterar sobre el propio job para extraer los resultados\n",
        "rows = query_job.result()"
      ],
      "execution_count": 44,
      "outputs": []
    },
    {
      "cell_type": "code",
      "metadata": {
        "colab": {
          "base_uri": "https://localhost:8080/"
        },
        "id": "ZzycE8c4iXPc",
        "outputId": "fe88fe74-d8d8-4286-9926-66ae6247d222"
      },
      "source": [
        "for row in rows:\n",
        "  print(row.name)"
      ],
      "execution_count": 46,
      "outputs": [
        {
          "output_type": "stream",
          "name": "stdout",
          "text": [
            "Frances\n",
            "Alice\n",
            "Beatrice\n",
            "Ella\n",
            "Gertrude\n",
            "Josephine\n",
            "Lula\n",
            "Blanche\n",
            "Marjorie\n",
            "Christine\n",
            "Margarita\n",
            "Alta\n",
            "Sara\n",
            "Naomi\n",
            "Sofia\n",
            "Andrea\n",
            "Delfina\n",
            "Dominga\n",
            "Elnora\n",
            "Adele\n",
            "Rafaela\n",
            "Dixie\n",
            "Luisa\n",
            "Bess\n",
            "Ernestine\n",
            "Lorine\n",
            "Patsy\n",
            "Cecelia\n",
            "Enriqueta\n",
            "Lucinda\n",
            "Alyce\n",
            "Oneta\n",
            "Apolonia\n",
            "Gloria\n",
            "Rhoda\n",
            "Buna\n",
            "Maye\n",
            "Pansy\n",
            "Gladys\n",
            "Maria\n",
            "Helen\n",
            "Velma\n",
            "Clara\n",
            "Anna\n",
            "Evelyn\n",
            "Rosa\n",
            "Mae\n",
            "Bernice\n",
            "Stella\n",
            "Vivian\n",
            "Mable\n",
            "Maggie\n",
            "Betty\n",
            "Guadalupe\n",
            "Lorene\n",
            "Susie\n",
            "Sadie\n",
            "Erma\n",
            "Verna\n",
            "Amelia\n",
            "Estelle\n",
            "Nell\n",
            "Margie\n",
            "Celia\n",
            "Lessie\n",
            "Eloise\n",
            "Millie\n",
            "Olga\n",
            "Letha\n",
            "Rachel\n",
            "Luz\n",
            "Gussie\n",
            "Sylvia\n",
            "Aline\n",
            "Barbara\n",
            "Iris\n",
            "Leila\n",
            "Mozelle\n",
            "Simona\n",
            "Catalina\n",
            "Hester\n",
            "Willia\n",
            "Allene\n",
            "Avis\n",
            "George\n",
            "Isabella\n",
            "Polly\n",
            "Syble\n",
            "Teodora\n",
            "Lennie\n",
            "Ricarda\n",
            "Valerie\n",
            "Frances\n",
            "Gertrude\n",
            "Sarah\n",
            "Rosa\n",
            "Lucy\n",
            "Nora\n",
            "Nettie\n",
            "Odessa\n"
          ]
        }
      ]
    },
    {
      "cell_type": "code",
      "metadata": {
        "colab": {
          "base_uri": "https://localhost:8080/"
        },
        "id": "vYixNbDLiR-g",
        "outputId": "334d81fd-7fab-421b-e4cf-a5922983df28"
      },
      "source": [
        "# Test\n",
        "# Perform a query.\n",
        "QUERY = (\n",
        "    ' SELECT DISTINCT visitId, h.page.pageTitle FROM `bigquery-public-data.google_analytics_sample.ga_sessions_20170801`, '\n",
        "    ' UNNEST(hits) AS h WHERE visitId = 1501570398')\n",
        "query_job = client.query(QUERY)  # API request\n",
        "rows = query_job.result() # Waits for query to finish\n",
        "\n",
        "for row in rows:\n",
        "    print(row)"
      ],
      "execution_count": 47,
      "outputs": [
        {
          "output_type": "stream",
          "name": "stdout",
          "text": [
            "Row((1501570398, 'Fun | Accessories | Google Merchandise Store'), {'visitId': 0, 'pageTitle': 1})\n",
            "Row((1501570398, 'Home'), {'visitId': 0, 'pageTitle': 1})\n",
            "Row((1501570398, 'Shop by Brand | Google Merchandise Store'), {'visitId': 0, 'pageTitle': 1})\n",
            "Row((1501570398, 'Office | Google Merchandise Store'), {'visitId': 0, 'pageTitle': 1})\n",
            "Row((1501570398, 'Other | Office | Google Merchandise Store'), {'visitId': 0, 'pageTitle': 1})\n",
            "Row((1501570398, 'Writing Instruments | Office | Google Merchandise Store'), {'visitId': 0, 'pageTitle': 1})\n",
            "Row((1501570398, 'Accessories | Google Merchandise Store'), {'visitId': 0, 'pageTitle': 1})\n",
            "Row((1501570398, 'Electronics | Google Merchandise Store'), {'visitId': 0, 'pageTitle': 1})\n",
            "Row((1501570398, 'Apparel | Google Merchandise Store'), {'visitId': 0, 'pageTitle': 1})\n"
          ]
        }
      ]
    },
    {
      "cell_type": "code",
      "metadata": {
        "id": "NJcnm69Qh1Nw"
      },
      "source": [
        ""
      ],
      "execution_count": null,
      "outputs": []
    }
  ]
}